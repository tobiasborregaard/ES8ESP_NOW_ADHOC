{
 "cells": [
  {
   "cell_type": "code",
   "execution_count": 10,
   "id": "0d669bc3",
   "metadata": {},
   "outputs": [
    {
     "name": "stdout",
     "output_type": "stream",
     "text": [
      "--- Routing overview for Living Room_643_575 ---\n",
      "Bedroom 1\\_436\\_820 & via & $81.36$ & $85.5$ & $79.3$ & $83.4$  \\\\\n",
      "Master Bedroom\\_379\\_537 & via & $78.37$ & $85.5$ & $74.0$ & $82.8$  \\\\\n",
      "Entrance\\_671\\_240 & direct & $85.55$ & $85.5$ & $84.0$ & $86.4$  \\\\\n",
      "Kitchen\\_935\\_355 & via & $75.76$ & $85.5$ & $78.5$ & $73.0$  \\\\\n",
      "Hallway\\_1326\\_338 & direct & $85.55$ & $85.5$ & $85.5$ & $85.1$  \\\\\n",
      "Office\\_1137\\_214 & direct & $85.55$ & $85.5$ & $84.9$ & $82.1$  \\\\\n",
      "Bedroom 2\\_1357\\_208 & direct & $85.55$ & $85.5$ & $95.7$ & $85.5$  \\\\\n",
      "Bedroom 3\\_1634\\_216 & direct & $85.55$ & $85.5$ & $99.3$ & $91.9$  \\\\\n",
      "Bedroom 5\\_1382\\_467 & direct & $85.55$ & $85.5$ & $91.0$ & $78.4$  \\\\\n",
      "Bedroom 4\\_1640\\_464 & direct & $85.55$ & $85.5$ & $89.1$ & $86.5$  \\\\\n"
     ]
    }
   ],
   "source": [
    "import json\n",
    "import os\n",
    "\n",
    "path = \"candidates.json\"\n",
    "\n",
    "if os.path.exists(path):\n",
    "    with open(path, \"r\") as f:\n",
    "        json_data = json.load(f)\n",
    "\n",
    "# target = \"Bedroom 3_1634_216\"\n",
    "target = \"Living Room_643_575\"\n",
    "\n",
    "if target in json_data:\n",
    "    print(f\"--- Routing overview for {target} ---\")\n",
    "    for neighbor, info in json_data[target].items():\n",
    "        score = info.get(\"score\")\n",
    "        route = info.get(\"route\")\n",
    "        via_score = info.get(\"via_score\")\n",
    "        sr = info.get(\"sr\")\n",
    "        sn = info.get(\"sn\")\n",
    "        nr = info.get(\"nr\")\n",
    "        nrsn = (nr + sn)/2\n",
    "        # print(f\"To {neighbor:<25} → {route.upper():<6} | via score: {via_score:.1f} | Score: {score:.2f} | sr: {sr:.1f}, sn: {sn:.1f}, nr: {nr:.1f}\")\n",
    "        print(f\"{neighbor.replace('_', '\\\\_')} & {route} & ${score:.2f}$ & ${sr:.1f}$ & ${sn:.1f}$ & ${nr:.1f}$  \\\\\\\\\")\n",
    "else:\n",
    "    print(f\"{target} not found in {path}\")\n"
   ]
  }
 ],
 "metadata": {
  "kernelspec": {
   "display_name": ".env",
   "language": "python",
   "name": "python3"
  },
  "language_info": {
   "codemirror_mode": {
    "name": "ipython",
    "version": 3
   },
   "file_extension": ".py",
   "mimetype": "text/x-python",
   "name": "python",
   "nbconvert_exporter": "python",
   "pygments_lexer": "ipython3",
   "version": "3.13.2"
  }
 },
 "nbformat": 4,
 "nbformat_minor": 5
}
